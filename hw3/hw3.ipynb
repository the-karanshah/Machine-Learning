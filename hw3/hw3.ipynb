{
  "nbformat": 4,
  "nbformat_minor": 0,
  "metadata": {
    "colab": {
      "name": "MLhw3Final.ipynb",
      "provenance": [],
      "collapsed_sections": []
    },
    "kernelspec": {
      "name": "python3",
      "display_name": "Python 3"
    }
  },
  "cells": [
    {
      "cell_type": "code",
      "metadata": {
        "id": "I3196KdCPzGI",
        "colab_type": "code",
        "outputId": "adb57805-80e4-4fd0-c135-1cb305eef435",
        "colab": {
          "base_uri": "https://localhost:8080/",
          "height": 125
        }
      },
      "source": [
        "from google.colab import drive\n",
        "drive.mount('/content/drive', force_remount=True)"
      ],
      "execution_count": 1,
      "outputs": [
        {
          "output_type": "stream",
          "text": [
            "Go to this URL in a browser: https://accounts.google.com/o/oauth2/auth?client_id=947318989803-6bn6qk8qdgf4n4g3pfee6491hc0brc4i.apps.googleusercontent.com&redirect_uri=urn%3Aietf%3Awg%3Aoauth%3A2.0%3Aoob&scope=email%20https%3A%2F%2Fwww.googleapis.com%2Fauth%2Fdocs.test%20https%3A%2F%2Fwww.googleapis.com%2Fauth%2Fdrive%20https%3A%2F%2Fwww.googleapis.com%2Fauth%2Fdrive.photos.readonly%20https%3A%2F%2Fwww.googleapis.com%2Fauth%2Fpeopleapi.readonly&response_type=code\n",
            "\n",
            "Enter your authorization code:\n",
            "··········\n",
            "Mounted at /content/drive\n"
          ],
          "name": "stdout"
        }
      ]
    },
    {
      "cell_type": "code",
      "metadata": {
        "id": "v4U9vwAERYrr",
        "colab_type": "code",
        "colab": {}
      },
      "source": [
        "# import libraries\n",
        "import numpy as np\n",
        "import sys\n",
        "import matplotlib.pyplot as plt\n",
        "import pandas as pd\n",
        "from sklearn.metrics import accuracy_score"
      ],
      "execution_count": 0,
      "outputs": []
    },
    {
      "cell_type": "code",
      "metadata": {
        "id": "j0T_epsbRafk",
        "colab_type": "code",
        "colab": {}
      },
      "source": [
        "data_path = \"./drive/My Drive/ML/hw3/data/\" # colab path"
      ],
      "execution_count": 0,
      "outputs": []
    },
    {
      "cell_type": "code",
      "metadata": {
        "id": "5itoW_8QRcSV",
        "colab_type": "code",
        "colab": {}
      },
      "source": [
        "# accuracy - how correct prediction is!\n",
        "def evaluate(true, pred):\n",
        "  return np.mean(true == pred)"
      ],
      "execution_count": 0,
      "outputs": []
    },
    {
      "cell_type": "code",
      "metadata": {
        "id": "-MGn8erJRh4s",
        "colab_type": "code",
        "colab": {}
      },
      "source": [
        "def get_data(folder, name):\n",
        "    y = pd.read_csv(folder + name + \"_Labels.csv\", index_col = 'Id')\n",
        "    x = pd.DataFrame(pd.read_pickle(folder + name + \"_Features.pkl\")).T\n",
        "    print('loaded', x.shape, y.shape)\n",
        "    return x,y"
      ],
      "execution_count": 0,
      "outputs": []
    },
    {
      "cell_type": "code",
      "metadata": {
        "id": "3gaX6C28Rmiu",
        "colab_type": "code",
        "colab": {}
      },
      "source": [
        "# shuffles both x and y together using permutation\n",
        "def shuffle_data(x, y):\n",
        "    permutation = np.random.permutation(len(x))\n",
        "    return x[permutation], y[permutation]"
      ],
      "execution_count": 0,
      "outputs": []
    },
    {
      "cell_type": "code",
      "metadata": {
        "id": "yRWgLmjQSBfv",
        "colab_type": "code",
        "colab": {}
      },
      "source": [
        "def pre_process_data(x,y):\n",
        " \n",
        "  x['one'] = int(1) # bias\n",
        "  y = y.reindex(x.index) # reordering labels according to x index\n",
        "  \n",
        "  x  = np.array(x)\n",
        "  y = np.array(y).astype(np.uint8)\n",
        "  \n",
        "  x = x / np.linalg.norm(x, axis=0) # l2 normalization\n",
        "  x = (x - np.mean(x, axis=-1)[..., np.newaxis]) / np.std(x, axis=-1)[..., np.newaxis]\n",
        "  return x,y"
      ],
      "execution_count": 0,
      "outputs": []
    },
    {
      "cell_type": "code",
      "metadata": {
        "id": "DayIgz1VTgLq",
        "colab_type": "code",
        "colab": {}
      },
      "source": [
        "# returns update for the weights\n",
        "def get_update(weights, x, y, category):\n",
        "  \n",
        "  indicator = np.zeros(y.shape)\n",
        "  indicator[y == category] = 1\n",
        "  \n",
        "  temp = (indicator - sigmoid(x @ weights))\n",
        "  update = np.mean(x.T @ temp, axis=1)\n",
        "  \n",
        "#   cost = - np.mean(indicator * (x @ weights) - np.log(1 + np.exp(x @ weights)))\n",
        "  \n",
        "  return update"
      ],
      "execution_count": 0,
      "outputs": []
    },
    {
      "cell_type": "code",
      "metadata": {
        "id": "5VYKL4gETphI",
        "colab_type": "code",
        "colab": {}
      },
      "source": [
        "# sigmoid function\n",
        "def sigmoid(z):\n",
        "  hx = 1 / (1 + np.exp(-z.astype(np.float64)))\n",
        "  return hx # sigmoid"
      ],
      "execution_count": 0,
      "outputs": []
    },
    {
      "cell_type": "code",
      "metadata": {
        "id": "Y7poX2C0Tquf",
        "colab_type": "code",
        "colab": {}
      },
      "source": [
        "def ltheta(weights, x, y):\n",
        "  pred = predict(x, weights).astype(np.float)[..., np.newaxis]\n",
        "  true = y\n",
        "  return np.mean(true != pred)"
      ],
      "execution_count": 0,
      "outputs": []
    },
    {
      "cell_type": "code",
      "metadata": {
        "id": "492OkFUcCenF",
        "colab_type": "code",
        "colab": {}
      },
      "source": [
        "def predict(x, weights):\n",
        "\n",
        "  pred_prob = np.concatenate([np.exp(x @ weight)  for weight in weights.values()], axis=-1)\n",
        "\n",
        "  sum_exp = 1 + np.sum(pred_prob, axis=-1)\n",
        "  pred_prob = pred_prob / sum_exp[..., np.newaxis]\n",
        "  \n",
        "  pred_prob = np.concatenate([pred_prob, 1 - np.sum(np.array(pred_prob), axis=1)[..., np.newaxis]], axis=-1)\n",
        "  \n",
        "  pred_y = np.argmax(np.array(pred_prob), axis=1) + 1\n",
        "  \n",
        "  return pred_y"
      ],
      "execution_count": 0,
      "outputs": []
    },
    {
      "cell_type": "code",
      "metadata": {
        "id": "Q7hn-nx38qsK",
        "colab_type": "code",
        "colab": {}
      },
      "source": [
        "def train(x, y, val_x1, val_y1, epochs, n0, n1, batch_n, stop_criteria):\n",
        "  \n",
        "  train_Ltheta, val_Ltheta, train_acc_list, val_acc_list = [], [], [], []\n",
        "  epochs_done = 0\n",
        "  flag = 0\n",
        "  categories = np.unique(y)\n",
        "  print(\"categories in training data\", categories)\n",
        "  \n",
        "  weights = {}\n",
        "  for category in categories[:-1]:\n",
        "    weights[category] = np.random.rand(x.shape[1], 1) #initiating weights randomly from [0,1) per category\n",
        "    \n",
        "  for epoch in range(epochs):\n",
        "    \n",
        "    step_size = n0 / (n1 + epoch) # decreases step size according to epoch count\n",
        "    \n",
        "#     x, y = shuffle_data(x, y) # shuffle\n",
        "\n",
        "    batchList_x, batchList_y = np.array_split(x, batch_n), np.array_split(y, batch_n)\n",
        "\n",
        "    for batch_x, batch_y in zip(batchList_x, batchList_y): # batch wise upadating gradients as asked in question\n",
        "\n",
        "      for category in categories[:-1]: # training classfiers except last one\n",
        "        update = get_update(weights[category], x, y, category)\n",
        "\n",
        "        weights[category] += step_size * update[:, np.newaxis] # gradient descent\n",
        "        \n",
        "\n",
        "    train_Ltheta.append(ltheta(weights, x, y))\n",
        "    val_Ltheta.append(ltheta(weights, val_x1, val_y1))\n",
        "    train_acc_list.append(evaluate(y, predict(x, weights)))\n",
        "    val_acc_list.append(evaluate(val_y1, predict(val_x1, weights)))\n",
        "    \n",
        "    epochs_done += 1\n",
        "    print('Epoch', epochs_done, \"Train_L\", train_Ltheta[-1], \"Val_L\", val_Ltheta[-1])\n",
        "    if(epoch > 2):\n",
        "      if val_Ltheta[-1] > (1 - stop_criteria) * val_Ltheta[-2]:\n",
        "        flag += 1\n",
        "        if(flag > 5):\n",
        "          break\n",
        "#       else:\n",
        "#         flag = 0\n",
        "        \n",
        "  return weights, epochs_done, train_Ltheta, val_Ltheta, train_acc_list, val_acc_list"
      ],
      "execution_count": 0,
      "outputs": []
    },
    {
      "cell_type": "markdown",
      "metadata": {
        "id": "M8DzCrc-Sm2t",
        "colab_type": "text"
      },
      "source": [
        "**Load and pre process data**"
      ]
    },
    {
      "cell_type": "code",
      "metadata": {
        "id": "qwfURK6ESnmW",
        "colab_type": "code",
        "outputId": "543195ec-5602-422b-cf1d-c1b32754b9f3",
        "colab": {
          "base_uri": "https://localhost:8080/",
          "height": 34
        }
      },
      "source": [
        "# load train data\n",
        "\n",
        "train_x, train_y = get_data(data_path, 'Train')"
      ],
      "execution_count": 13,
      "outputs": [
        {
          "output_type": "stream",
          "text": [
            "loaded (4000, 512) (4000, 1)\n"
          ],
          "name": "stdout"
        }
      ]
    },
    {
      "cell_type": "code",
      "metadata": {
        "id": "_BlzfzKgSq0t",
        "colab_type": "code",
        "outputId": "0eaa2dff-45f1-492d-adbd-45d68136c468",
        "colab": {
          "base_uri": "https://localhost:8080/",
          "height": 34
        }
      },
      "source": [
        "# load validation data\n",
        "\n",
        "val_x, val_y = get_data(data_path, 'Val')"
      ],
      "execution_count": 14,
      "outputs": [
        {
          "output_type": "stream",
          "text": [
            "loaded (2000, 512) (2000, 1)\n"
          ],
          "name": "stdout"
        }
      ]
    },
    {
      "cell_type": "code",
      "metadata": {
        "id": "UIGPyzd7Sr5G",
        "colab_type": "code",
        "outputId": "c69d7453-936f-464f-d793-72863c7828d7",
        "colab": {
          "base_uri": "https://localhost:8080/",
          "height": 34
        }
      },
      "source": [
        "# load test data\n",
        "\n",
        "test_x = pd.DataFrame(pd.read_pickle(data_path + \"Test\" + \"_Features.pkl\")).T\n",
        "print('loaded', test_x.shape)"
      ],
      "execution_count": 15,
      "outputs": [
        {
          "output_type": "stream",
          "text": [
            "loaded (2000, 512)\n"
          ],
          "name": "stdout"
        }
      ]
    },
    {
      "cell_type": "code",
      "metadata": {
        "id": "dvBmeumJT8A_",
        "colab_type": "code",
        "colab": {}
      },
      "source": [
        "train_x_c, train_y_c = train_x.copy(), train_y.copy()\n",
        "train_x_c,train_y_c = pre_process_data(train_x_c,train_y_c)\n",
        "\n",
        "val_x_c, val_y_c = val_x.copy(), val_y.copy()\n",
        "val_x_c, val_y_c = pre_process_data(val_x_c, val_y_c)"
      ],
      "execution_count": 0,
      "outputs": []
    },
    {
      "cell_type": "markdown",
      "metadata": {
        "id": "oX_nnqVXQLOk",
        "colab_type": "text"
      },
      "source": [
        "**1. Run your implementation on the provided training data with max epoch = 1000;m = 16; step size 0 = 0.1; step size 1 = 1; stopping criteria = 0:00001.**"
      ]
    },
    {
      "cell_type": "code",
      "metadata": {
        "id": "IWFQuROYT9Qc",
        "colab_type": "code",
        "outputId": "d69f040e-7de7-4673-f9d1-19a29e7bb6fd",
        "colab": {
          "base_uri": "https://localhost:8080/",
          "height": 386
        }
      },
      "source": [
        "epochs = 1000\n",
        "n0,n1 = 0.1,1\n",
        "batch_size = 16\n",
        "stop_criteria = 0.00001\n",
        "\n",
        "batch_n = int(len(train_x_c) / batch_size)\n",
        "weights, epochs_done, train_Ltheta, val_Ltheta, train_acc_list, val_acc_list = train(train_x_c,train_y_c, val_x_c, val_y_c, epochs, n0, n1, batch_n, stop_criteria)"
      ],
      "execution_count": 18,
      "outputs": [
        {
          "output_type": "stream",
          "text": [
            "categories in training data [1 2 3 4]\n"
          ],
          "name": "stdout"
        },
        {
          "output_type": "stream",
          "text": [
            "/usr/local/lib/python3.6/dist-packages/ipykernel_launcher.py:2: RuntimeWarning: overflow encountered in exp\n",
            "  \n",
            "/usr/local/lib/python3.6/dist-packages/ipykernel_launcher.py:3: RuntimeWarning: overflow encountered in exp\n",
            "  This is separate from the ipykernel package so we can avoid doing imports until\n",
            "/usr/local/lib/python3.6/dist-packages/ipykernel_launcher.py:6: RuntimeWarning: invalid value encountered in true_divide\n",
            "  \n"
          ],
          "name": "stderr"
        },
        {
          "output_type": "stream",
          "text": [
            "Epoch 1 Train_L 0.69675 Val_L 0.715\n",
            "Epoch 2 Train_L 0.64275 Val_L 0.708\n",
            "Epoch 3 Train_L 0.42675 Val_L 0.583\n",
            "Epoch 4 Train_L 0.4305 Val_L 0.5925\n",
            "Epoch 5 Train_L 0.43225 Val_L 0.598\n",
            "Epoch 6 Train_L 0.3815 Val_L 0.571\n",
            "Epoch 7 Train_L 0.41675 Val_L 0.598\n",
            "Epoch 8 Train_L 0.3655 Val_L 0.5735\n",
            "Epoch 9 Train_L 0.38075 Val_L 0.57\n",
            "Epoch 10 Train_L 0.402 Val_L 0.599\n",
            "Epoch 11 Train_L 0.36525 Val_L 0.5735\n",
            "Epoch 12 Train_L 0.3975 Val_L 0.5995\n",
            "Epoch 13 Train_L 0.358 Val_L 0.5795\n",
            "Epoch 14 Train_L 0.3745 Val_L 0.591\n"
          ],
          "name": "stdout"
        }
      ]
    },
    {
      "cell_type": "markdown",
      "metadata": {
        "id": "Xu91RaUoQgmD",
        "colab_type": "text"
      },
      "source": [
        "**(a) Report the number of epochs that your algorithm takes before exiting.**"
      ]
    },
    {
      "cell_type": "code",
      "metadata": {
        "id": "UsBevN2q5lJE",
        "colab_type": "code",
        "colab": {
          "base_uri": "https://localhost:8080/",
          "height": 34
        },
        "outputId": "16a21783-0daa-474b-8f5e-0a798c3ca831"
      },
      "source": [
        "epochs_done"
      ],
      "execution_count": 19,
      "outputs": [
        {
          "output_type": "execute_result",
          "data": {
            "text/plain": [
              "14"
            ]
          },
          "metadata": {
            "tags": []
          },
          "execution_count": 19
        }
      ]
    },
    {
      "cell_type": "markdown",
      "metadata": {
        "id": "-trJccmZ5pW5",
        "colab_type": "text"
      },
      "source": [
        "14"
      ]
    },
    {
      "cell_type": "markdown",
      "metadata": {
        "id": "fIJUwHxjQlRr",
        "colab_type": "text"
      },
      "source": [
        "**(b) Plot the curve showing L(theta) as a function of epoch.**"
      ]
    },
    {
      "cell_type": "code",
      "metadata": {
        "id": "I5AoyG2nUI3P",
        "colab_type": "code",
        "colab": {
          "base_uri": "https://localhost:8080/",
          "height": 269
        },
        "outputId": "f0440550-5f21-4019-9af4-30080a7079f9"
      },
      "source": [
        "plt.plot(range(epochs_done), train_Ltheta)\n",
        "plt.show()"
      ],
      "execution_count": 20,
      "outputs": [
        {
          "output_type": "display_data",
          "data": {
            "image/png": "[encoded data removed]",
            "text/plain": [
              "<Figure size 432x288 with 1 Axes>"
            ]
          },
          "metadata": {
            "tags": []
          }
        }
      ]
    },
    {
      "cell_type": "markdown",
      "metadata": {
        "id": "vmjDVYplQnZT",
        "colab_type": "text"
      },
      "source": [
        "**(c) What is the final value of L(theta) after the optimization?**"
      ]
    },
    {
      "cell_type": "code",
      "metadata": {
        "id": "R_SAad6o56PW",
        "colab_type": "code",
        "colab": {
          "base_uri": "https://localhost:8080/",
          "height": 34
        },
        "outputId": "6146524d-6125-41d6-95b1-c1a29db9d8fc"
      },
      "source": [
        "train_Ltheta[-1]"
      ],
      "execution_count": 21,
      "outputs": [
        {
          "output_type": "execute_result",
          "data": {
            "text/plain": [
              "0.3745"
            ]
          },
          "metadata": {
            "tags": []
          },
          "execution_count": 21
        }
      ]
    },
    {
      "cell_type": "markdown",
      "metadata": {
        "id": "zFcI6o7fUK-x",
        "colab_type": "text"
      },
      "source": [
        "0.3745"
      ]
    },
    {
      "cell_type": "markdown",
      "metadata": {
        "id": "dymEwX9tQtIb",
        "colab_type": "text"
      },
      "source": [
        "**2. Keep m = 16; stopping criteria = 0:00001, experiment with different values of step size 0 and step size 1. Can you find a\n",
        "pair of parameters (step size 0; step size 1) that leads to faster convergence?**"
      ]
    },
    {
      "cell_type": "code",
      "metadata": {
        "id": "bNlWr0MvUT1S",
        "colab_type": "code",
        "colab": {
          "base_uri": "https://localhost:8080/",
          "height": 439
        },
        "outputId": "99195715-97a6-414b-9a82-8c5731c3a14a"
      },
      "source": [
        "epochs = 1000\n",
        "n0,n1 = 0.001,0.1\n",
        "batch_size = 8\n",
        "stop_criteria = 0.000001\n",
        "\n",
        "batch_n = int(len(train_x_c) / batch_size)\n",
        "\n",
        "weights, epochs_done, train_Ltheta, val_Ltheta, train_acc_list, val_acc_list = train(train_x_c, train_y_c, val_x_c, val_y_c, epochs, n0, n1, batch_n, stop_criteria)"
      ],
      "execution_count": 22,
      "outputs": [
        {
          "output_type": "stream",
          "text": [
            "categories in training data [1 2 3 4]\n"
          ],
          "name": "stdout"
        },
        {
          "output_type": "stream",
          "text": [
            "/usr/local/lib/python3.6/dist-packages/ipykernel_launcher.py:2: RuntimeWarning: overflow encountered in exp\n",
            "  \n",
            "/usr/local/lib/python3.6/dist-packages/ipykernel_launcher.py:3: RuntimeWarning: overflow encountered in exp\n",
            "  This is separate from the ipykernel package so we can avoid doing imports until\n",
            "/usr/local/lib/python3.6/dist-packages/ipykernel_launcher.py:6: RuntimeWarning: invalid value encountered in true_divide\n",
            "  \n"
          ],
          "name": "stderr"
        },
        {
          "output_type": "stream",
          "text": [
            "Epoch 1 Train_L 0.57075 Val_L 0.6325\n",
            "Epoch 2 Train_L 0.40825 Val_L 0.574\n",
            "Epoch 3 Train_L 0.39775 Val_L 0.5805\n",
            "Epoch 4 Train_L 0.39325 Val_L 0.5785\n",
            "Epoch 5 Train_L 0.39075 Val_L 0.5825\n",
            "Epoch 6 Train_L 0.3925 Val_L 0.5845\n",
            "Epoch 7 Train_L 0.39125 Val_L 0.583\n",
            "Epoch 8 Train_L 0.39075 Val_L 0.58\n",
            "Epoch 9 Train_L 0.39025 Val_L 0.5785\n",
            "Epoch 10 Train_L 0.38775 Val_L 0.577\n",
            "Epoch 11 Train_L 0.38625 Val_L 0.577\n",
            "Epoch 12 Train_L 0.3855 Val_L 0.576\n",
            "Epoch 13 Train_L 0.385 Val_L 0.575\n",
            "Epoch 14 Train_L 0.384 Val_L 0.575\n",
            "Epoch 15 Train_L 0.384 Val_L 0.573\n",
            "Epoch 16 Train_L 0.38275 Val_L 0.5765\n",
            "Epoch 17 Train_L 0.38325 Val_L 0.5785\n"
          ],
          "name": "stdout"
        }
      ]
    },
    {
      "cell_type": "markdown",
      "metadata": {
        "id": "puXzxbMaQwnb",
        "colab_type": "text"
      },
      "source": [
        "**(a) Report the values of (step size 0; step size 1). How many epochs does it take? What is the final value of L(theta)?**"
      ]
    },
    {
      "cell_type": "code",
      "metadata": {
        "id": "-RLqBvMr6awY",
        "colab_type": "code",
        "colab": {
          "base_uri": "https://localhost:8080/",
          "height": 87
        },
        "outputId": "81131840-bc58-43c9-ee9b-44560ac8bb5f"
      },
      "source": [
        "print(\"n0:\", n0)\n",
        "print(\"n1:\", n1)\n",
        "print(\"It took\", epochs_done, \"epochs\")\n",
        "print(\"final value of L(theta)\", train_Ltheta[-1])"
      ],
      "execution_count": 23,
      "outputs": [
        {
          "output_type": "stream",
          "text": [
            "n0: 0.001\n",
            "n1: 0.1\n",
            "It took 17 epochs\n",
            "final value of L(theta) 0.38325\n"
          ],
          "name": "stdout"
        }
      ]
    },
    {
      "cell_type": "markdown",
      "metadata": {
        "id": "rA9_CdhtUVDt",
        "colab_type": "text"
      },
      "source": [
        "```\n",
        "n0: 0.001\n",
        "n1: 0.1\n",
        "It took 17 epochs\n",
        "final value of L(theta) 0.38325\n",
        "```\n",
        "\n"
      ]
    },
    {
      "cell_type": "markdown",
      "metadata": {
        "id": "zAwCltO0QxgM",
        "colab_type": "text"
      },
      "source": [
        "**(b) Plot the curve showing L(theta) as a function of epoch.**"
      ]
    },
    {
      "cell_type": "code",
      "metadata": {
        "id": "ZH_FZLjRNujm",
        "colab_type": "code",
        "colab": {}
      },
      "source": [
        ""
      ],
      "execution_count": 0,
      "outputs": []
    },
    {
      "cell_type": "code",
      "metadata": {
        "id": "iXDp3SiGUVst",
        "colab_type": "code",
        "colab": {
          "base_uri": "https://localhost:8080/",
          "height": 269
        },
        "outputId": "6ea760d4-6566-4930-bd4f-5aed10cc6b28"
      },
      "source": [
        "plt.plot(range(epochs_done), train_Ltheta)\n",
        "plt.show()"
      ],
      "execution_count": 24,
      "outputs": [
        {
          "output_type": "display_data",
          "data": {
            "image/png": "[encoded data removed]",
            "text/plain": [
              "<Figure size 432x288 with 1 Axes>"
            ]
          },
          "metadata": {
            "tags": []
          }
        }
      ]
    },
    {
      "cell_type": "markdown",
      "metadata": {
        "id": "dVj0YKkMQzF7",
        "colab_type": "text"
      },
      "source": [
        "**3. Evaluate the performance on validation data**"
      ]
    },
    {
      "cell_type": "code",
      "metadata": {
        "id": "Kd8BwqFoUcUW",
        "colab_type": "code",
        "colab": {
          "base_uri": "https://localhost:8080/",
          "height": 122
        },
        "outputId": "66187b45-966b-4917-8103-d2c1e54fc3b1"
      },
      "source": [
        "# prediction\n",
        "\n",
        "pred_y = predict(val_x_c, weights)\n",
        "\n",
        "print(\"Unique\", np.unique(pred_y), np.unique(val_y_c))                \n",
        "\n",
        "print(\"Score\", evaluate(val_y_c,pred_y.astype(np.float)))"
      ],
      "execution_count": 25,
      "outputs": [
        {
          "output_type": "stream",
          "text": [
            "Unique [1 2 3 4] [1 2 3 4]\n",
            "Score 0.271393\n"
          ],
          "name": "stdout"
        },
        {
          "output_type": "stream",
          "text": [
            "/usr/local/lib/python3.6/dist-packages/ipykernel_launcher.py:3: RuntimeWarning: overflow encountered in exp\n",
            "  This is separate from the ipykernel package so we can avoid doing imports until\n",
            "/usr/local/lib/python3.6/dist-packages/ipykernel_launcher.py:6: RuntimeWarning: invalid value encountered in true_divide\n",
            "  \n"
          ],
          "name": "stderr"
        }
      ]
    },
    {
      "cell_type": "markdown",
      "metadata": {
        "id": "g8sKDH5HQ1ur",
        "colab_type": "text"
      },
      "source": [
        "**(a) Plot L(theta) as a function of epoch. On the same plot, show two curves, one for training and one\n",
        "for validation data.**"
      ]
    },
    {
      "cell_type": "code",
      "metadata": {
        "id": "Lso_kWSHUd9t",
        "colab_type": "code",
        "colab": {
          "base_uri": "https://localhost:8080/",
          "height": 269
        },
        "outputId": "a05beca0-78e4-488f-e00a-e6fc3e2f9563"
      },
      "source": [
        "plt.plot(range(epochs_done), train_Ltheta, label=\"train\")\n",
        "plt.plot(range(epochs_done), val_Ltheta, label=\"val\")\n",
        "plt.legend()\n",
        "plt.show()"
      ],
      "execution_count": 26,
      "outputs": [
        {
          "output_type": "display_data",
          "data": {
            "image/png": "[encoded data removed]",
            "text/plain": [
              "<Figure size 432x288 with 1 Axes>"
            ]
          },
          "metadata": {
            "tags": []
          }
        }
      ]
    },
    {
      "cell_type": "markdown",
      "metadata": {
        "id": "7l0yzCxqQ3oU",
        "colab_type": "text"
      },
      "source": [
        "**(b) Plot the accuracy as a function of epoch. On the same plot, show two curves, one for training\n",
        "and one for validation data.**"
      ]
    },
    {
      "cell_type": "code",
      "metadata": {
        "id": "tfiPxoGPUekh",
        "colab_type": "code",
        "colab": {
          "base_uri": "https://localhost:8080/",
          "height": 269
        },
        "outputId": "9cc03b6c-5d4f-40f2-95a8-a08d742557ae"
      },
      "source": [
        "plt.plot(range(epochs_done), train_acc_list, label=\"train\")\n",
        "plt.plot(range(epochs_done), val_acc_list, label=\"val\")\n",
        "plt.legend()\n",
        "plt.show()"
      ],
      "execution_count": 27,
      "outputs": [
        {
          "output_type": "display_data",
          "data": {
            "image/png": "[encoded data removed]",
            "text/plain": [
              "<Figure size 432x288 with 1 Axes>"
            ]
          },
          "metadata": {
            "tags": []
          }
        }
      ]
    },
    {
      "cell_type": "markdown",
      "metadata": {
        "id": "KfKeogI_Q7n7",
        "colab_type": "text"
      },
      "source": [
        "**4. Report the confusion matrices on the validation and the training data.**"
      ]
    },
    {
      "cell_type": "code",
      "metadata": {
        "id": "1L2E-PvjUfRl",
        "colab_type": "code",
        "colab": {
          "base_uri": "https://localhost:8080/",
          "height": 87
        },
        "outputId": "24be4b26-a65e-4bb2-f222-e92228ddfe19"
      },
      "source": [
        "def generate_conf_matrix(y, pred_y):\n",
        "  conf_matrix = np.zeros((len(np.unique(y)),len(np.unique(pred_y))))\n",
        "\n",
        "  for true, pred in zip(y, pred_y):\n",
        "    conf_matrix[true[0]-1][pred-1] += 1\n",
        "    \n",
        "  return conf_matrix\n",
        "\n",
        "train_true = train_y_c.copy().astype(np.int)\n",
        "train_pred = predict(train_x_c, weights)\n",
        "val_true = val_y_c.copy().astype(np.int)\n",
        "val_pred = predict(val_x_c, weights)"
      ],
      "execution_count": 28,
      "outputs": [
        {
          "output_type": "stream",
          "text": [
            "/usr/local/lib/python3.6/dist-packages/ipykernel_launcher.py:3: RuntimeWarning: overflow encountered in exp\n",
            "  This is separate from the ipykernel package so we can avoid doing imports until\n",
            "/usr/local/lib/python3.6/dist-packages/ipykernel_launcher.py:6: RuntimeWarning: invalid value encountered in true_divide\n",
            "  \n"
          ],
          "name": "stderr"
        }
      ]
    },
    {
      "cell_type": "markdown",
      "metadata": {
        "id": "1ri5u5IHBXRO",
        "colab_type": "text"
      },
      "source": [
        "Confusion Matrix for training data"
      ]
    },
    {
      "cell_type": "code",
      "metadata": {
        "id": "rcOxCLLi9BQY",
        "colab_type": "code",
        "colab": {
          "base_uri": "https://localhost:8080/",
          "height": 87
        },
        "outputId": "6288ac8b-6ba8-43a2-9d2a-405999b818ad"
      },
      "source": [
        "generate_conf_matrix(train_true, train_pred)"
      ],
      "execution_count": 29,
      "outputs": [
        {
          "output_type": "execute_result",
          "data": {
            "text/plain": [
              "array([[494., 128.,  34., 127.],\n",
              "       [119., 714., 135., 301.],\n",
              "       [ 30., 143., 361., 282.],\n",
              "       [ 22.,  77., 135., 898.]])"
            ]
          },
          "metadata": {
            "tags": []
          },
          "execution_count": 29
        }
      ]
    },
    {
      "cell_type": "markdown",
      "metadata": {
        "id": "arRSGalwBca3",
        "colab_type": "text"
      },
      "source": [
        "Confusion Matrix for validation data"
      ]
    },
    {
      "cell_type": "code",
      "metadata": {
        "id": "FL1mcnbgBe7n",
        "colab_type": "code",
        "colab": {
          "base_uri": "https://localhost:8080/",
          "height": 87
        },
        "outputId": "bc3b309e-d781-4266-b65b-f1786a9d4f23"
      },
      "source": [
        "generate_conf_matrix(val_true, val_pred)"
      ],
      "execution_count": 30,
      "outputs": [
        {
          "output_type": "execute_result",
          "data": {
            "text/plain": [
              "array([[146.,  75.,  20.,  75.],\n",
              "       [126., 272.,  88., 174.],\n",
              "       [ 37., 157.,  70., 174.],\n",
              "       [ 27., 106.,  98., 355.]])"
            ]
          },
          "metadata": {
            "tags": []
          },
          "execution_count": 30
        }
      ]
    },
    {
      "cell_type": "markdown",
      "metadata": {
        "id": "2tjbL2ZbRU7_",
        "colab_type": "text"
      },
      "source": [
        "**2.4 Submit the result in Kaggle**"
      ]
    },
    {
      "cell_type": "markdown",
      "metadata": {
        "id": "QsqmHpMPNmIu",
        "colab_type": "text"
      },
      "source": [
        "0.38333"
      ]
    }
  ]
}