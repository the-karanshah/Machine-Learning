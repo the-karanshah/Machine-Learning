{
 "cells": [
  {
   "cell_type": "code",
   "execution_count": 225,
   "metadata": {
    "colab": {
     "base_uri": "https://localhost:8080/",
     "height": 34
    },
    "colab_type": "code",
    "id": "UW7PVsGBlAfM",
    "outputId": "b7a578f3-953e-4662-f559-d190ae0579eb"
   },
   "outputs": [
    {
     "name": "stdout",
     "output_type": "stream",
     "text": [
      "Mounted at /content/drive\n"
     ]
    }
   ],
   "source": [
    "from google.colab import drive\n",
    "drive.mount('/content/drive', force_remount=True)"
   ]
  },
  {
   "cell_type": "code",
   "execution_count": 0,
   "metadata": {
    "colab": {},
    "colab_type": "code",
    "id": "vCNIXTpBk8k2"
   },
   "outputs": [],
   "source": [
    "# import libraries\n",
    "import numpy as np\n",
    "import sys\n",
    "import matplotlib.pyplot as plt\n",
    "import pandas as pd"
   ]
  },
  {
   "cell_type": "code",
   "execution_count": 0,
   "metadata": {
    "colab": {},
    "colab_type": "code",
    "id": "n7IxAhcgk8k9"
   },
   "outputs": [],
   "source": [
    "lambda_list = [0.01, 0.1, 1, 10, 100, 1000]\n",
    "data_path = \"./drive/My Drive/ML/hw2/data/\" # colab path"
   ]
  },
  {
   "cell_type": "code",
   "execution_count": 0,
   "metadata": {
    "colab": {},
    "colab_type": "code",
    "id": "WgoQnNSVk8k_"
   },
   "outputs": [],
   "source": [
    "def RMSE(y_actual, y_pred):\n",
    "    return np.sqrt( np.mean( (y_actual - y_pred)**2))"
   ]
  },
  {
   "cell_type": "code",
   "execution_count": 0,
   "metadata": {
    "colab": {},
    "colab_type": "code",
    "id": "mntwl5elg-Bk"
   },
   "outputs": [],
   "source": [
    "def RMS(x):\n",
    "    return np.sqrt( np.mean( np.square(x)))"
   ]
  },
  {
   "cell_type": "code",
   "execution_count": 0,
   "metadata": {
    "colab": {},
    "colab_type": "code",
    "id": "pPCKpWwik8lD"
   },
   "outputs": [],
   "source": [
    "def get_data(folder, name):\n",
    "    x = np.loadtxt(open(folder + name + \"Data.csv\", \"rb\"), delimiter=\",\", skiprows=0)\n",
    "    y = np.loadtxt(open(folder + name + \"Labels.csv\", \"rb\"), delimiter=\",\", skiprows=0)\n",
    "    print('loaded', x.shape, y.shape)\n",
    "    return x,y"
   ]
  },
  {
   "cell_type": "code",
   "execution_count": 0,
   "metadata": {
    "colab": {},
    "colab_type": "code",
    "id": "841jLGfxk8lG"
   },
   "outputs": [],
   "source": [
    "def preprocess_data(x,y):\n",
    "    x, y = x[...,1:], y[...,1:] # removed index column i.e. first column\n",
    "    print('preprocessed', x.shape, y.shape)\n",
    "    return x, y"
   ]
  },
  {
   "cell_type": "code",
   "execution_count": 0,
   "metadata": {
    "colab": {},
    "colab_type": "code",
    "id": "OXXdpM_yaG_G"
   },
   "outputs": [],
   "source": [
    "def preprocess_test_data(x):\n",
    "    x = x[...,1:] # removed index column i.e. first column\n",
    "    print('preprocessed', x.shape)\n",
    "    return x"
   ]
  },
  {
   "cell_type": "code",
   "execution_count": 0,
   "metadata": {
    "colab": {},
    "colab_type": "code",
    "id": "oDFonLitk8lK"
   },
   "outputs": [],
   "source": [
    "def predict(x,w,b):\n",
    "    x1 = np.vstack((x,np.ones((1,x.shape[1])))) # appened 1 to each column \n",
    "    weights = np.concatenate((w,b[...,np.newaxis]), axis=0)\n",
    "    return x1.T @ weights"
   ]
  },
  {
   "cell_type": "markdown",
   "metadata": {
    "colab_type": "text",
    "id": "SD0ykV59ione"
   },
   "source": [
    "**Objective Function**"
   ]
  },
  {
   "cell_type": "code",
   "execution_count": 0,
   "metadata": {
    "colab": {},
    "colab_type": "code",
    "id": "W6a_irULk8lO"
   },
   "outputs": [],
   "source": [
    "def objFunc(x, y, lambda_val, w, b):\n",
    "    weights = np.concatenate((w,b[...,np.newaxis]))\n",
    "    prediction = x.T @ weights\n",
    "    obj_basic = (prediction - y).T @ (prediction - y)\n",
    "    obj_regularization = lambda_val * np.sum(weights[:-1]**2)\n",
    "    obj = obj_basic + obj_regularization\n",
    "    return obj, obj_regularization, obj_basic"
   ]
  },
  {
   "cell_type": "markdown",
   "metadata": {
    "colab_type": "text",
    "id": "jXu6SImMluv8"
   },
   "source": [
    "**Get weights function using close form solution of ridge regression**"
   ]
  },
  {
   "cell_type": "code",
   "execution_count": 0,
   "metadata": {
    "colab": {},
    "colab_type": "code",
    "id": "NLhhA8rik8lR"
   },
   "outputs": [],
   "source": [
    "def get_weights(x, y, lambda_identity):\n",
    "    identity_matrix = np.identity(x.shape[0])\n",
    "    identity_matrix[-1,-1] = 0 \n",
    "    x_square = x @ x.T\n",
    "    lambda_identity = lambda_val * identity_matrix\n",
    "\n",
    "    first_term = x_square + lambda_identity\n",
    "    second_term = x @ y\n",
    "    weights = np.linalg.solve(first_term, second_term)\n",
    "    w = weights[:-1]\n",
    "    b = weights[-1]\n",
    "    return w, b"
   ]
  },
  {
   "cell_type": "markdown",
   "metadata": {
    "colab_type": "text",
    "id": "2Z8oz1D-mAuL"
   },
   "source": [
    "**Function to find LOOCV error based on formula from  Question 2.5**"
   ]
  },
  {
   "cell_type": "code",
   "execution_count": 0,
   "metadata": {
    "colab": {},
    "colab_type": "code",
    "id": "0EkFKnank8ld"
   },
   "outputs": [],
   "source": [
    "def get_loocv_errors(X,y,lambda_val, weights):\n",
    "    cvErrs = []\n",
    "    weights_T = weights.T\n",
    "    \n",
    "    x1 = np.vstack((X,np.ones((1, X.shape[1])))) # appened 1 to each column\n",
    "    \n",
    "    identity_matrix = np.identity(x1.shape[0])\n",
    "    identity_matrix[-1,-1] = 0\n",
    "    c = x1 @ x1.T + lambda_val * identity_matrix\n",
    "    c_inverse = np.linalg.inv(c)\n",
    "    \n",
    "    for i in range(X.shape[1]):\n",
    "        train_x = X[:,i]\n",
    "        train_y = y[i]\n",
    "        train_x1 = np.concatenate((train_x, np.ones((1)))) # appened 1        \n",
    "        \n",
    "        numerator = (weights_T @ train_x1 - train_y)\n",
    "        denominator = (1 - (train_x1.T @ c_inverse @ train_x1))\n",
    "        \n",
    "        cvErr = numerator/ denominator\n",
    "        cvErrs.append(cvErr)\n",
    "    return cvErrs       \n",
    "        "
   ]
  },
  {
   "cell_type": "markdown",
   "metadata": {
    "colab_type": "text",
    "id": "U9Fzm6ybixUj"
   },
   "source": [
    "**ridgeReg Function definition**"
   ]
  },
  {
   "cell_type": "code",
   "execution_count": 0,
   "metadata": {
    "colab": {},
    "colab_type": "code",
    "id": "gVpTH1XHk8lf"
   },
   "outputs": [],
   "source": [
    "def ridgeReg(X,y,lambda_val):\n",
    "    \n",
    "    x1 = np.vstack((X,np.ones((1, X.shape[1])))) # appened 1 to each column\n",
    "    \n",
    "    w, b = get_weights(x1, y , lambda_val)\n",
    "    \n",
    "    weights = np.concatenate((w,b[...,np.newaxis]))\n",
    "    \n",
    "    obj, obj_regularization, obj_basic = objFunc(x1, y, lambda_val, w, b)\n",
    "    cvErrs = get_loocv_errors(X,y,lambda_val,weights)\n",
    "    RMS_cvErr = RMS(cvErrs)\n",
    "    print('rmse of cvErrs=', RMS_cvErr)\n",
    "    return [w, b, obj, RMS_cvErr]"
   ]
  },
  {
   "cell_type": "markdown",
   "metadata": {
    "colab_type": "text",
    "id": "rXpUvCm4mJSq"
   },
   "source": [
    "**Load and pre process data**"
   ]
  },
  {
   "cell_type": "code",
   "execution_count": 238,
   "metadata": {
    "colab": {
     "base_uri": "https://localhost:8080/",
     "height": 34
    },
    "colab_type": "code",
    "id": "1KeoSFvhk8lk",
    "outputId": "60441560-78da-4b5a-9aaa-804e9e55bbb2"
   },
   "outputs": [
    {
     "name": "stdout",
     "output_type": "stream",
     "text": [
      "loaded (5000, 3001) (5000, 2)\n"
     ]
    }
   ],
   "source": [
    "# load train data\n",
    "\n",
    "train_x, train_y = get_data(data_path, 'train')"
   ]
  },
  {
   "cell_type": "code",
   "execution_count": 239,
   "metadata": {
    "colab": {
     "base_uri": "https://localhost:8080/",
     "height": 34
    },
    "colab_type": "code",
    "id": "CLSaPAqzk8lo",
    "outputId": "76f411a7-c408-40be-f1c4-f36b8f34b6ad"
   },
   "outputs": [
    {
     "name": "stdout",
     "output_type": "stream",
     "text": [
      "loaded (5000, 3001) (5000, 2)\n"
     ]
    }
   ],
   "source": [
    "# load validation data\n",
    "\n",
    "val_x, val_y = get_data(data_path, 'val')"
   ]
  },
  {
   "cell_type": "code",
   "execution_count": 240,
   "metadata": {
    "colab": {
     "base_uri": "https://localhost:8080/",
     "height": 52
    },
    "colab_type": "code",
    "id": "pYcSWb2Ck8lt",
    "outputId": "27594989-8ee7-41c7-d1fd-0532dfb42d9b"
   },
   "outputs": [
    {
     "name": "stdout",
     "output_type": "stream",
     "text": [
      "preprocessed (5000, 3000) (5000, 1)\n",
      "preprocessed (5000, 3000) (5000, 1)\n"
     ]
    }
   ],
   "source": [
    "# preprocess\n",
    "\n",
    "train_x, train_y = preprocess_data(train_x, train_y)\n",
    "val_x, val_y = preprocess_data(val_x, val_y)"
   ]
  },
  {
   "cell_type": "code",
   "execution_count": 241,
   "metadata": {
    "colab": {
     "base_uri": "https://localhost:8080/",
     "height": 34
    },
    "colab_type": "code",
    "id": "Y2jeDyhbk8lr",
    "outputId": "0e28ead5-d696-436f-d865-86fd24a672ff"
   },
   "outputs": [
    {
     "name": "stdout",
     "output_type": "stream",
     "text": [
      "loaded (4749, 3001)\n"
     ]
    }
   ],
   "source": [
    "# load test data\n",
    "\n",
    "test_x = np.loadtxt(open(data_path + 'test' + \"Data_new.csv\", \"rb\"), delimiter=\",\", skiprows=0)\n",
    "print('loaded', test_x.shape)"
   ]
  },
  {
   "cell_type": "code",
   "execution_count": 242,
   "metadata": {
    "colab": {
     "base_uri": "https://localhost:8080/",
     "height": 34
    },
    "colab_type": "code",
    "id": "z3ZBu1jwZ_CN",
    "outputId": "c4268ca9-468d-4cf0-d768-3caf3e4d5233"
   },
   "outputs": [
    {
     "name": "stdout",
     "output_type": "stream",
     "text": [
      "preprocessed (4749, 3000)\n"
     ]
    }
   ],
   "source": [
    "test_x = preprocess_test_data(test_x)"
   ]
  },
  {
   "cell_type": "markdown",
   "metadata": {
    "colab_type": "text",
    "id": "Cl4rm2XTiA4a"
   },
   "source": [
    "**1.1 Run Ridge on the training\n",
    "set, with lambda = 0.01, 0.1, 1, 10, 100, 1000. At each solution, record the root-mean-squared-error (RMSE)\n",
    "on training, validation and leave-one-out-cross-validation data**"
   ]
  },
  {
   "cell_type": "code",
   "execution_count": 243,
   "metadata": {
    "colab": {
     "base_uri": "https://localhost:8080/",
     "height": 545
    },
    "colab_type": "code",
    "id": "bYP21TVDk8lv",
    "outputId": "bd706da6-16c6-4897-e1cd-9aed664db9c0"
   },
   "outputs": [
    {
     "name": "stdout",
     "output_type": "stream",
     "text": [
      "**********\n",
      "lambda-> 0.01\n",
      "rmse of cvErrs= 2.580103521790279\n",
      "train_rmse 1.1205188247625724\n",
      "val_rmse 2.5791868257078514\n",
      "**********\n",
      "lambda-> 0.1\n",
      "rmse of cvErrs= 2.182106499121022\n",
      "train_rmse 1.2238119656960245\n",
      "val_rmse 2.1574812686463836\n",
      "**********\n",
      "lambda-> 1\n",
      "rmse of cvErrs= 2.009474060889735\n",
      "train_rmse 1.5780360753182243\n",
      "val_rmse 1.9967715113690583\n",
      "**********\n",
      "lambda-> 10\n",
      "rmse of cvErrs= 2.3201351657980895\n",
      "train_rmse 2.189953395751638\n",
      "val_rmse 2.347705513916286\n",
      "**********\n",
      "lambda-> 100\n",
      "rmse of cvErrs= 2.9965727187353157\n",
      "train_rmse 2.9709419656108045\n",
      "val_rmse 3.017105238664671\n",
      "**********\n",
      "lambda-> 1000\n",
      "rmse of cvErrs= 3.3353399803872232\n",
      "train_rmse 3.3316125921530397\n",
      "val_rmse 3.345415090847554\n"
     ]
    }
   ],
   "source": [
    "# run ridgeReg\n",
    "\n",
    "weights_list, obj_list, bias_list, cvErrs_list, train_rmse_list, val_rmse_list = [], [], [], [], [], []\n",
    "# X = np.concatenate((train_x, val_x)).T\n",
    "# y = np.concatenate((train_y, val_y))\n",
    "\n",
    "X = train_x.T\n",
    "y = train_y\n",
    "\n",
    "for lambda_val in lambda_list:\n",
    "    \n",
    "    print('*'*10)\n",
    "    print('lambda->', lambda_val)\n",
    "    [w, b, obj, cvErrs] = ridgeReg(X, y, lambda_val)\n",
    "    weights_list.append(w)\n",
    "    bias_list.append(b)\n",
    "    obj_list.append(obj)\n",
    "    cvErrs_list.append(cvErrs)\n",
    "\n",
    "    train_pred = predict(train_x.T, w, b) # prediction on training set\n",
    "    train_rmse = RMSE(train_y, train_pred)\n",
    "    train_rmse_list.append(train_rmse)\n",
    "    print('train_rmse', train_rmse)\n",
    "    \n",
    "    val_pred = predict(val_x.T, w, b) # prediction on validation set\n",
    "    val_rmse = RMSE(val_y, val_pred)\n",
    "    val_rmse_list.append(val_rmse)\n",
    "    print('val_rmse', val_rmse)"
   ]
  },
  {
   "cell_type": "markdown",
   "metadata": {
    "colab_type": "text",
    "id": "QoJtxOGmh0py"
   },
   "source": [
    "**1.2 Plot the train, validation and leave-one-out-cross-validation RMSE values together on a plot against lambda**"
   ]
  },
  {
   "cell_type": "code",
   "execution_count": 244,
   "metadata": {
    "colab": {
     "base_uri": "https://localhost:8080/",
     "height": 283
    },
    "colab_type": "code",
    "id": "XrB4zrRik8ly",
    "outputId": "184eec58-328c-487e-b725-a7b10f09bec6"
   },
   "outputs": [
    {
     "data": {
      "image/png": "[encoded data removed]",
      "text/plain": [
       "<Figure size 432x288 with 1 Axes>"
      ]
     },
     "metadata": {
      "tags": []
     },
     "output_type": "display_data"
    }
   ],
   "source": [
    "# 1.2 Plot the train, validation and leave-one-out-cross-validation RMSE values together on a plot against lambda\n",
    "\n",
    "x = np.arange(len(lambda_list))\n",
    "\n",
    "plt.plot(x, train_rmse_list, label='train_rmse')\n",
    "plt.plot(x, val_rmse_list, label='val_rmse')\n",
    "plt.plot(x, cvErrs_list, label='cvErrs')\n",
    "\n",
    "plt.xticks(x, lambda_list)\n",
    "\n",
    "plt.legend()\n",
    "plt.xlabel('lambda')\n",
    "plt.ylabel('RMSE')\n",
    "plt.show()"
   ]
  },
  {
   "cell_type": "markdown",
   "metadata": {
    "colab_type": "text",
    "id": "RgJJLZ13iWB0"
   },
   "source": [
    "**2. What lambda achieve the best best LOOCV performance? For the model using this lambda, report the\n",
    "objective value, the sum of square errors (on training data), the value of the regularization term.**"
   ]
  },
  {
   "cell_type": "code",
   "execution_count": 245,
   "metadata": {
    "colab": {
     "base_uri": "https://localhost:8080/",
     "height": 87
    },
    "colab_type": "code",
    "id": "3DfvKfcTk8l1",
    "outputId": "d3ea011d-1485-4b32-ed12-ff3c508dd11e"
   },
   "outputs": [
    {
     "name": "stdout",
     "output_type": "stream",
     "text": [
      "Lambda having best LOOCV performance is 1\n",
      "Objective Value: 17200.94056872298\n",
      "sum_of_square_errs: 12450.989275028724\n",
      "regularization_val 4749.951293694259\n"
     ]
    }
   ],
   "source": [
    "# 2. What lambda achieve the best best LOOCV performance? For the model using this lambda, \n",
    "#    report the objective value, the sum of square errors (on training data), the value of the regularization term.\n",
    "best_index = np.argmin(cvErrs_list)\n",
    "best_lambda_val = lambda_list[best_index]\n",
    "best_w = weights_list[best_index]\n",
    "best_b = bias_list[best_index]\n",
    "print('Lambda having best LOOCV performance is', best_lambda_val)\n",
    "\n",
    "X = train_x.T\n",
    "y = train_y\n",
    "x1 = np.vstack((X,np.ones((1, X.shape[1])))) # appened 1 to each column\n",
    "\n",
    "obj, obj_regularization, obj_basic = objFunc(x1, y, best_lambda_val, best_w, best_b)\n",
    "print('Objective Value:', obj[0][0])\n",
    "\n",
    "print('sum_of_square_errs:', obj_basic[0][0])\n",
    "\n",
    "print('regularization_val', obj_regularization)"
   ]
  },
  {
   "cell_type": "markdown",
   "metadata": {
    "colab_type": "text",
    "id": "bFCVS9bzjl2K"
   },
   "source": [
    "**3. Using the model that you computed using lambda that achieves best LOOCV performance, list\n",
    "the top 10 most important features and the top 10 least important features. Comment if the weights\n",
    "make sense intuitively.**"
   ]
  },
  {
   "cell_type": "code",
   "execution_count": 253,
   "metadata": {
    "colab": {
     "base_uri": "https://localhost:8080/",
     "height": 474
    },
    "colab_type": "code",
    "id": "l0EXhhQNk8l3",
    "outputId": "88bc8a0b-e572-4fe2-9465-868af4323945"
   },
   "outputs": [
    {
     "name": "stdout",
     "output_type": "stream",
     "text": [
      "*************************\n",
      "Top 10 most imp features\n",
      "*************************\n",
      "infused\n",
      "pineapple orange\n",
      "red\n",
      "flavors nice\n",
      "sweet black\n",
      "little heavy\n",
      "new french\n",
      "future\n",
      "currant cola\n",
      "cocktail\n",
      "*************************\n",
      "Top 10 least imp features\n",
      "*************************\n",
      "offers\n",
      "light body\n",
      "highlights\n",
      "franc petit verdot\n",
      "framed\n",
      "tannins frame\n",
      "tannins finish\n",
      "sour\n",
      "flavors black cherry\n",
      "oakville\n"
     ]
    }
   ],
   "source": [
    "# 3. list the top 10 most important features and the top 10 least important features.\n",
    "\n",
    "features = [line.rstrip('\\n') for line in open(data_path + \"featureTypes.txt\")]\n",
    "\n",
    "top_n = 10\n",
    "b_w = best_w.T\n",
    "b_w[b_w<0] *= -1 # all positive\n",
    "\n",
    "max_w = (np.argsort(b_w)[0])[-top_n:][::-1]\n",
    "min_w = (np.argsort(b_w)[0])[0:top_n]\n",
    "\n",
    "print('*'*25)\n",
    "print(\"Top\",top_n,\"most imp features\")\n",
    "print('*'*25)\n",
    "\n",
    "for i in max_w:\n",
    "  print(features[i])\n",
    "  \n",
    "print('*'*25)\n",
    "print(\"Top\",top_n,\"least imp features\")\n",
    "print('*'*25)\n",
    "\n",
    "for i in min_w:\n",
    "  print(features[i])"
   ]
  },
  {
   "cell_type": "markdown",
   "metadata": {
    "colab_type": "text",
    "id": "ID7hPMk4kHjb"
   },
   "source": [
    "**4. Use your model to predict the points for the reviews in test data. Save\n",
    "the predicted values on a CSV file predTestLabels.csv**"
   ]
  },
  {
   "cell_type": "code",
   "execution_count": 247,
   "metadata": {
    "colab": {
     "base_uri": "https://localhost:8080/",
     "height": 70
    },
    "colab_type": "code",
    "id": "oI2Vk061kPQh",
    "outputId": "dcdf44f0-bbd2-42f0-8144-cd624eed3e19"
   },
   "outputs": [
    {
     "name": "stdout",
     "output_type": "stream",
     "text": [
      "**********\n",
      "lambda-> 0.65\n",
      "rmse of cvErrs= 1.896637275925839\n"
     ]
    }
   ],
   "source": [
    "# run ridgeReg for Kaggle\n",
    "\n",
    "X = np.concatenate((train_x, val_x)).T\n",
    "y = np.concatenate((train_y, val_y))\n",
    "\n",
    "lambda_val = 0.65 # looks better lambda value after experiments\n",
    "    \n",
    "print('*'*10)\n",
    "print('lambda->', lambda_val)\n",
    "[w, b, obj, cvErrs] = ridgeReg(X, y, lambda_val)"
   ]
  },
  {
   "cell_type": "code",
   "execution_count": 248,
   "metadata": {
    "colab": {
     "base_uri": "https://localhost:8080/",
     "height": 34
    },
    "colab_type": "code",
    "id": "S7d8L5Elk8l6",
    "outputId": "a404a43e-5699-4f7c-fbaf-3aa5ea77034b"
   },
   "outputs": [
    {
     "name": "stdout",
     "output_type": "stream",
     "text": [
      "file saved in drive\n"
     ]
    }
   ],
   "source": [
    "# predict and save csv\n",
    "\n",
    "x = test_x.T\n",
    "\n",
    "predTest = predict(x, w, b) #prediction on test data using weights got from above cell\n",
    "\n",
    "ids = [i for i in range (0,len(predTest))]\n",
    "predTestLabels = np.insert(predTest, 0, ids, axis=1) #adding id column\n",
    "\n",
    "df = pd.DataFrame(data=predTestLabels, columns = ['Id','Expected']) # numpy to panda dataframe\n",
    "df.Id = df.Id.astype('uint32')\n",
    "df.to_csv(data_path + 'predTestLabels.csv', index=False, header=['Id','Expected']) # saved\n",
    "print('file saved in drive')"
   ]
  }
 ],
 "metadata": {
  "accelerator": "GPU",
  "colab": {
   "collapsed_sections": [],
   "machine_shape": "hm",
   "name": "hw2.ipynb",
   "provenance": []
  },
  "kernelspec": {
   "display_name": "Python 3",
   "language": "python",
   "name": "python3"
  },
  "language_info": {
   "codemirror_mode": {
    "name": "ipython",
    "version": 3
   },
   "file_extension": ".py",
   "mimetype": "text/x-python",
   "name": "python",
   "nbconvert_exporter": "python",
   "pygments_lexer": "ipython3",
   "version": "3.6.7"
  }
 },
 "nbformat": 4,
 "nbformat_minor": 1
}
